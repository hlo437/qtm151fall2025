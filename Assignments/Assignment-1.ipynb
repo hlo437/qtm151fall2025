{
 "cells": [
  {
   "cell_type": "code",
   "execution_count": 1,
   "id": "25ebbe3f",
   "metadata": {},
   "outputs": [
    {
     "name": "stdout",
     "output_type": "stream",
     "text": [
      "Hello, my name is Hannah Lo\n"
     ]
    }
   ],
   "source": [
    "print(\"Hello, my name is Hannah Lo\")"
   ]
  }
 ],
 "metadata": {
  "kernelspec": {
   "display_name": "qtm151",
   "language": "python",
   "name": "python3"
  },
  "language_info": {
   "codemirror_mode": {
    "name": "ipython",
    "version": 3
   },
   "file_extension": ".py",
   "mimetype": "text/x-python",
   "name": "python",
   "nbconvert_exporter": "python",
   "pygments_lexer": "ipython3",
   "version": "3.12.8"
  }
 },
 "nbformat": 4,
 "nbformat_minor": 5
}
